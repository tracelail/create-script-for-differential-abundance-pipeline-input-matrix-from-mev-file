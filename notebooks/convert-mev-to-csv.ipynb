{
 "cells": [
  {
   "cell_type": "code",
   "execution_count": 4,
   "metadata": {},
   "outputs": [
    {
     "name": "stdout",
     "output_type": "stream",
     "text": [
      "The autoreload extension is already loaded. To reload it, use:\n",
      "  %reload_ext autoreload\n"
     ]
    }
   ],
   "source": [
    "%load_ext autoreload\n",
    "%autoreload 2\n",
    "\n",
    "import pandas as pd\n",
    "import numpy as np\n",
    "\n",
    "input_path = '../data/processed/'\n",
    "\n",
    "pd.set_option('display.max_columns', None)"
   ]
  },
  {
   "cell_type": "markdown",
   "metadata": {},
   "source": [
    "# Header information"
   ]
  },
  {
   "cell_type": "code",
   "execution_count": 5,
   "metadata": {},
   "outputs": [],
   "source": [
    "def read_mev_headers(path):\n",
    "    with open(path, \"r\") as f:\n",
    "        mev_header = {}\n",
    "        for i in range(7):\n",
    "            line = f.readline().replace(\"#\", \"\").strip()\n",
    "            key, value = line.split(\":\", 1)\n",
    "            mev_header[key] = value.strip()\n",
    "    return mev_header"
   ]
  },
  {
   "cell_type": "code",
   "execution_count": 6,
   "metadata": {},
   "outputs": [
    {
     "name": "stdout",
     "output_type": "stream",
     "text": [
      "{'Version': 'V1.0', 'Date': 'Tue Apr 22 05:54:18 2008', 'Input_row_count': '4608; bad/undetected spots:1439', 'Created by': 'TIGR Spotfinder 3.1.1, Windows\"', 'TIFF files processed': 'ch A- C:/Documents and Settings/Monica Medina/Desktop/Mickey/Mexico2007/19april2008/images/single/bot1 scan4 730 600_532.tif; ch B- C:/Documents and Settings/Monica Medina/Desktop/Mickey/Mexico2007/19april2008/images/single/bot1 scan4 730 600_635.tif;', 'Segmentation method': 'Otsu, Min size: 3, Max size: 100; Top bkg cutoff: 25% \"', 'Post-processing settings': 'QCfilter: ON, Background correction: ON, Keep flagged values: ON, QC threshold= 1*medianBKG+1*StdDevBkg\"'}\n"
     ]
    }
   ],
   "source": [
    "mev_header = read_mev_headers(f\"{input_path}test-mev-file.mev\")\n",
    "print(mev_header)"
   ]
  },
  {
   "cell_type": "code",
   "execution_count": 7,
   "metadata": {},
   "outputs": [
    {
     "name": "stdout",
     "output_type": "stream",
     "text": [
      "V1.0\n"
     ]
    }
   ],
   "source": [
    "print(mev_header[\"Version\"])"
   ]
  },
  {
   "cell_type": "markdown",
   "metadata": {},
   "source": [
    "# Array data"
   ]
  },
  {
   "cell_type": "code",
   "execution_count": 8,
   "metadata": {},
   "outputs": [],
   "source": [
    "def read_mev_matix(path, skiprows=8):\n",
    "    ## read the data from the file\n",
    "    # skiprows=8 to skip the header ## potential that all mev files have the same header number of rows\n",
    "    df = pd.read_csv(path, sep=\"\\t\", skiprows=skiprows)\n",
    "    return df"
   ]
  },
  {
   "cell_type": "code",
   "execution_count": 9,
   "metadata": {},
   "outputs": [
    {
     "data": {
      "text/html": [
       "<div>\n",
       "<style scoped>\n",
       "    .dataframe tbody tr th:only-of-type {\n",
       "        vertical-align: middle;\n",
       "    }\n",
       "\n",
       "    .dataframe tbody tr th {\n",
       "        vertical-align: top;\n",
       "    }\n",
       "\n",
       "    .dataframe thead th {\n",
       "        text-align: right;\n",
       "    }\n",
       "</style>\n",
       "<table border=\"1\" class=\"dataframe\">\n",
       "  <thead>\n",
       "    <tr style=\"text-align: right;\">\n",
       "      <th></th>\n",
       "      <th>UID</th>\n",
       "      <th>IA</th>\n",
       "      <th>IB</th>\n",
       "      <th>FeatName</th>\n",
       "      <th>R</th>\n",
       "      <th>C</th>\n",
       "      <th>MR</th>\n",
       "      <th>MC</th>\n",
       "      <th>SR</th>\n",
       "      <th>SC</th>\n",
       "      <th>FlagA</th>\n",
       "      <th>FlagB</th>\n",
       "      <th>SA</th>\n",
       "      <th>SF</th>\n",
       "      <th>QC</th>\n",
       "      <th>QCA</th>\n",
       "      <th>QCB</th>\n",
       "      <th>BkgA</th>\n",
       "      <th>BkgB</th>\n",
       "      <th>SDA</th>\n",
       "      <th>SDB</th>\n",
       "      <th>SDBkgA</th>\n",
       "      <th>SDBkgB</th>\n",
       "      <th>MedA</th>\n",
       "      <th>MedB</th>\n",
       "      <th>MNA</th>\n",
       "      <th>MNB</th>\n",
       "      <th>MedBkgA</th>\n",
       "      <th>MedBkgB</th>\n",
       "      <th>X</th>\n",
       "      <th>Y</th>\n",
       "      <th>PValueA</th>\n",
       "      <th>PValueB</th>\n",
       "    </tr>\n",
       "  </thead>\n",
       "  <tbody>\n",
       "    <tr>\n",
       "      <th>0</th>\n",
       "      <td>1</td>\n",
       "      <td>16742184</td>\n",
       "      <td>16440850</td>\n",
       "      <td>AOSC1103</td>\n",
       "      <td>1</td>\n",
       "      <td>1</td>\n",
       "      <td>1</td>\n",
       "      <td>1</td>\n",
       "      <td>1</td>\n",
       "      <td>1</td>\n",
       "      <td>C</td>\n",
       "      <td>C</td>\n",
       "      <td>428</td>\n",
       "      <td>1</td>\n",
       "      <td>0.95113</td>\n",
       "      <td>0.95113</td>\n",
       "      <td>0.95113</td>\n",
       "      <td>58208</td>\n",
       "      <td>30388</td>\n",
       "      <td>6109.2</td>\n",
       "      <td>6150.6</td>\n",
       "      <td>67.1</td>\n",
       "      <td>54.8</td>\n",
       "      <td>38972</td>\n",
       "      <td>38475</td>\n",
       "      <td>39117</td>\n",
       "      <td>38413</td>\n",
       "      <td>136</td>\n",
       "      <td>71</td>\n",
       "      <td>62</td>\n",
       "      <td>44</td>\n",
       "      <td>0</td>\n",
       "      <td>0</td>\n",
       "    </tr>\n",
       "    <tr>\n",
       "      <th>1</th>\n",
       "      <td>2</td>\n",
       "      <td>4113534</td>\n",
       "      <td>3683275</td>\n",
       "      <td>AOSC403</td>\n",
       "      <td>1</td>\n",
       "      <td>2</td>\n",
       "      <td>1</td>\n",
       "      <td>1</td>\n",
       "      <td>1</td>\n",
       "      <td>2</td>\n",
       "      <td>C</td>\n",
       "      <td>C</td>\n",
       "      <td>402</td>\n",
       "      <td>1</td>\n",
       "      <td>0.66650</td>\n",
       "      <td>0.66650</td>\n",
       "      <td>0.66650</td>\n",
       "      <td>51456</td>\n",
       "      <td>26934</td>\n",
       "      <td>2022.2</td>\n",
       "      <td>1708.9</td>\n",
       "      <td>63.4</td>\n",
       "      <td>51.9</td>\n",
       "      <td>10150</td>\n",
       "      <td>9190</td>\n",
       "      <td>10233</td>\n",
       "      <td>9162</td>\n",
       "      <td>128</td>\n",
       "      <td>67</td>\n",
       "      <td>111</td>\n",
       "      <td>44</td>\n",
       "      <td>0</td>\n",
       "      <td>0</td>\n",
       "    </tr>\n",
       "    <tr>\n",
       "      <th>2</th>\n",
       "      <td>3</td>\n",
       "      <td>3252615</td>\n",
       "      <td>3046954</td>\n",
       "      <td>AOSC477</td>\n",
       "      <td>1</td>\n",
       "      <td>3</td>\n",
       "      <td>1</td>\n",
       "      <td>1</td>\n",
       "      <td>1</td>\n",
       "      <td>3</td>\n",
       "      <td>C</td>\n",
       "      <td>C</td>\n",
       "      <td>366</td>\n",
       "      <td>1</td>\n",
       "      <td>0.61761</td>\n",
       "      <td>0.61761</td>\n",
       "      <td>0.61761</td>\n",
       "      <td>51240</td>\n",
       "      <td>24888</td>\n",
       "      <td>1952.0</td>\n",
       "      <td>1793.6</td>\n",
       "      <td>68.0</td>\n",
       "      <td>53.1</td>\n",
       "      <td>8637</td>\n",
       "      <td>8255</td>\n",
       "      <td>8887</td>\n",
       "      <td>8325</td>\n",
       "      <td>140</td>\n",
       "      <td>68</td>\n",
       "      <td>160</td>\n",
       "      <td>44</td>\n",
       "      <td>0</td>\n",
       "      <td>0</td>\n",
       "    </tr>\n",
       "    <tr>\n",
       "      <th>3</th>\n",
       "      <td>4</td>\n",
       "      <td>4954840</td>\n",
       "      <td>4782054</td>\n",
       "      <td>AOSC568</td>\n",
       "      <td>1</td>\n",
       "      <td>4</td>\n",
       "      <td>1</td>\n",
       "      <td>1</td>\n",
       "      <td>1</td>\n",
       "      <td>4</td>\n",
       "      <td>C</td>\n",
       "      <td>C</td>\n",
       "      <td>382</td>\n",
       "      <td>1</td>\n",
       "      <td>0.71681</td>\n",
       "      <td>0.71681</td>\n",
       "      <td>0.71681</td>\n",
       "      <td>52716</td>\n",
       "      <td>27504</td>\n",
       "      <td>2980.6</td>\n",
       "      <td>2679.4</td>\n",
       "      <td>68.3</td>\n",
       "      <td>54.3</td>\n",
       "      <td>12589</td>\n",
       "      <td>12395</td>\n",
       "      <td>12971</td>\n",
       "      <td>12518</td>\n",
       "      <td>138</td>\n",
       "      <td>72</td>\n",
       "      <td>209</td>\n",
       "      <td>44</td>\n",
       "      <td>0</td>\n",
       "      <td>0</td>\n",
       "    </tr>\n",
       "    <tr>\n",
       "      <th>4</th>\n",
       "      <td>5</td>\n",
       "      <td>2290631</td>\n",
       "      <td>1811238</td>\n",
       "      <td>AOSC658</td>\n",
       "      <td>1</td>\n",
       "      <td>5</td>\n",
       "      <td>1</td>\n",
       "      <td>1</td>\n",
       "      <td>1</td>\n",
       "      <td>5</td>\n",
       "      <td>C</td>\n",
       "      <td>C</td>\n",
       "      <td>275</td>\n",
       "      <td>1</td>\n",
       "      <td>0.39633</td>\n",
       "      <td>0.39633</td>\n",
       "      <td>0.39633</td>\n",
       "      <td>39875</td>\n",
       "      <td>18700</td>\n",
       "      <td>2546.1</td>\n",
       "      <td>1943.8</td>\n",
       "      <td>74.1</td>\n",
       "      <td>54.2</td>\n",
       "      <td>7907</td>\n",
       "      <td>6287</td>\n",
       "      <td>8330</td>\n",
       "      <td>6586</td>\n",
       "      <td>145</td>\n",
       "      <td>68</td>\n",
       "      <td>258</td>\n",
       "      <td>44</td>\n",
       "      <td>0</td>\n",
       "      <td>0</td>\n",
       "    </tr>\n",
       "  </tbody>\n",
       "</table>\n",
       "</div>"
      ],
      "text/plain": [
       "   UID        IA        IB  FeatName  R  C  MR  MC  SR  SC FlagA FlagB   SA  \\\n",
       "0    1  16742184  16440850  AOSC1103  1  1   1   1   1   1     C     C  428   \n",
       "1    2   4113534   3683275   AOSC403  1  2   1   1   1   2     C     C  402   \n",
       "2    3   3252615   3046954   AOSC477  1  3   1   1   1   3     C     C  366   \n",
       "3    4   4954840   4782054   AOSC568  1  4   1   1   1   4     C     C  382   \n",
       "4    5   2290631   1811238   AOSC658  1  5   1   1   1   5     C     C  275   \n",
       "\n",
       "   SF       QC      QCA      QCB   BkgA   BkgB     SDA     SDB  SDBkgA  \\\n",
       "0   1  0.95113  0.95113  0.95113  58208  30388  6109.2  6150.6    67.1   \n",
       "1   1  0.66650  0.66650  0.66650  51456  26934  2022.2  1708.9    63.4   \n",
       "2   1  0.61761  0.61761  0.61761  51240  24888  1952.0  1793.6    68.0   \n",
       "3   1  0.71681  0.71681  0.71681  52716  27504  2980.6  2679.4    68.3   \n",
       "4   1  0.39633  0.39633  0.39633  39875  18700  2546.1  1943.8    74.1   \n",
       "\n",
       "   SDBkgB   MedA   MedB    MNA    MNB  MedBkgA  MedBkgB    X   Y  PValueA  \\\n",
       "0    54.8  38972  38475  39117  38413      136       71   62  44        0   \n",
       "1    51.9  10150   9190  10233   9162      128       67  111  44        0   \n",
       "2    53.1   8637   8255   8887   8325      140       68  160  44        0   \n",
       "3    54.3  12589  12395  12971  12518      138       72  209  44        0   \n",
       "4    54.2   7907   6287   8330   6586      145       68  258  44        0   \n",
       "\n",
       "   PValueB  \n",
       "0        0  \n",
       "1        0  \n",
       "2        0  \n",
       "3        0  \n",
       "4        0  "
      ]
     },
     "metadata": {},
     "output_type": "display_data"
    }
   ],
   "source": [
    "micro_array_data = read_mev_matix(f\"{input_path}test-mev-file.mev\")\n",
    "display(micro_array_data.head())"
   ]
  },
  {
   "cell_type": "code",
   "execution_count": 10,
   "metadata": {},
   "outputs": [
    {
     "name": "stdout",
     "output_type": "stream",
     "text": [
      "Index(['UID', 'IA', 'IB', 'FeatName', 'R', 'C', 'MR', 'MC', 'SR', 'SC',\n",
      "       'FlagA', 'FlagB', 'SA', 'SF', 'QC', 'QCA', 'QCB', 'BkgA', 'BkgB', 'SDA',\n",
      "       'SDB', 'SDBkgA', 'SDBkgB', 'MedA', 'MedB', 'MNA', 'MNB', 'MedBkgA',\n",
      "       'MedBkgB', 'X', 'Y', 'PValueA', 'PValueB'],\n",
      "      dtype='object')\n"
     ]
    }
   ],
   "source": [
    "print(micro_array_data.columns)"
   ]
  },
  {
   "cell_type": "code",
   "execution_count": 11,
   "metadata": {},
   "outputs": [
    {
     "name": "stdout",
     "output_type": "stream",
     "text": [
      "FlagA\n",
      "C    29\n",
      "Y     1\n",
      "Name: count, dtype: int64\n",
      "FlagB\n",
      "C    29\n",
      "Y     1\n",
      "Name: count, dtype: int64\n"
     ]
    }
   ],
   "source": [
    "print(micro_array_data[\"FlagA\"].value_counts())\n",
    "print(micro_array_data[\"FlagB\"].value_counts())"
   ]
  },
  {
   "cell_type": "markdown",
   "metadata": {},
   "source": [
    "### Flag A and B has multiple potential values for quality control\n",
    "viewed larger file to check for other potential values"
   ]
  },
  {
   "cell_type": "code",
   "execution_count": 12,
   "metadata": {},
   "outputs": [
    {
     "name": "stdout",
     "output_type": "stream",
     "text": [
      "FlagA\n",
      "C    3157\n",
      "X     310\n",
      "Y      12\n",
      "Z       7\n",
      "B       2\n",
      "S       2\n",
      "A       1\n",
      "Name: count, dtype: int64\n",
      "FlagB\n",
      "C    3156\n",
      "X     283\n",
      "Y      40\n",
      "Z       7\n",
      "B       2\n",
      "S       2\n",
      "A       1\n",
      "Name: count, dtype: int64\n"
     ]
    }
   ],
   "source": [
    "large_mev = read_mev_matix(\"../data/raw/GSM321647.mev\")\n",
    "print(large_mev[\"FlagA\"].value_counts())\n",
    "print(large_mev[\"FlagB\"].value_counts())"
   ]
  },
  {
   "cell_type": "markdown",
   "metadata": {},
   "source": [
    "## Create quality score of Flag values\n",
    "- 'C' (Compromised): By far the most common flag in your data. This indicates features with some quality concerns, but not necessarily failures. The features might still provide usable data but should be interpreted with caution.\n",
    "- 'X' (Excluded): These are spots that have been algorithmically determined to be outliers or have failed certain quality metrics. They are typically recommended for exclusion from further analysis.\n",
    "- 'Y' (Yes/Good quality): Only a small fraction of your spots (12 in channel A, 40 in channel B) were flagged as high-quality without any concerns.\n",
    "- 'Z' (Zero/Background level): These spots have signal intensities near background levels, suggesting no or very low expression.\n",
    "- 'B' (Bad): These are spots with severe quality issues, definitely recommended for exclusion.\n",
    "- 'S' (Saturated): These spots have reached the upper detection limit of the scanner, meaning the true intensity might be higher than what was measured.\n",
    "- 'A' (Absent): This typically indicates spots where the feature was not detected above background."
   ]
  },
  {
   "cell_type": "code",
   "execution_count": 13,
   "metadata": {},
   "outputs": [],
   "source": [
    "def quality_score(row):\n",
    "    # scoring system to create a 1 for good reads and 0 for reads to be omitted\n",
    "    # other reads are arbitrary for now\n",
    "    if row[\"FlagA\"] == \"Y\" and row[\"FlagB\"] == \"Y\":\n",
    "        return 1.0  # Highest quality\n",
    "    elif row[\"FlagA\"] in [\"X\", \"B\", \"A\"] or row[\"FlagB\"] in [\"X\", \"B\", \"A\"]:\n",
    "        return 0.0  # Poor quality, consider excluding\n",
    "    elif row[\"FlagA\"] == \"C\" or row[\"FlagB\"] == \"C\":\n",
    "        return 0.5  # Compromised but potentially usable\n",
    "    elif row[\"FlagA\"] == \"Z\" or row[\"FlagB\"] == \"Z\":\n",
    "        return 0.3  # Near background, low confidence\n",
    "    else:\n",
    "        return 0.8  # Other flags\n",
    "\n",
    "\n",
    "# df['quality_score'] = df.apply(quality_score, axis=1)"
   ]
  },
  {
   "cell_type": "code",
   "execution_count": 14,
   "metadata": {},
   "outputs": [
    {
     "name": "stdout",
     "output_type": "stream",
     "text": [
      "-0.14877346441283357\n"
     ]
    }
   ],
   "source": [
    "# IB/IA\n",
    "print(np.log2(1033136 / 1145362))"
   ]
  },
  {
   "cell_type": "code",
   "execution_count": 15,
   "metadata": {},
   "outputs": [],
   "source": [
    "def mev_to_expression_matrix(mev_data):\n",
    "    mev_data_copy = mev_data.copy()\n",
    "    mev_data_copy[\"log2_expression\"] = np.log2(\n",
    "        mev_data_copy[\"IB\"] / mev_data_copy[\"IA\"]\n",
    "    )\n",
    "    mev_data_copy = mev_data_copy[[\"FeatName\", \"log2_expression\"]]\n",
    "    return mev_data_copy"
   ]
  },
  {
   "cell_type": "code",
   "execution_count": 16,
   "metadata": {},
   "outputs": [
    {
     "data": {
      "text/html": [
       "<div>\n",
       "<style scoped>\n",
       "    .dataframe tbody tr th:only-of-type {\n",
       "        vertical-align: middle;\n",
       "    }\n",
       "\n",
       "    .dataframe tbody tr th {\n",
       "        vertical-align: top;\n",
       "    }\n",
       "\n",
       "    .dataframe thead th {\n",
       "        text-align: right;\n",
       "    }\n",
       "</style>\n",
       "<table border=\"1\" class=\"dataframe\">\n",
       "  <thead>\n",
       "    <tr style=\"text-align: right;\">\n",
       "      <th></th>\n",
       "      <th>FeatName</th>\n",
       "      <th>log2_expression</th>\n",
       "    </tr>\n",
       "  </thead>\n",
       "  <tbody>\n",
       "    <tr>\n",
       "      <th>0</th>\n",
       "      <td>AOSC1103</td>\n",
       "      <td>-0.026203</td>\n",
       "    </tr>\n",
       "    <tr>\n",
       "      <th>1</th>\n",
       "      <td>AOSC403</td>\n",
       "      <td>-0.159389</td>\n",
       "    </tr>\n",
       "    <tr>\n",
       "      <th>2</th>\n",
       "      <td>AOSC477</td>\n",
       "      <td>-0.094232</td>\n",
       "    </tr>\n",
       "    <tr>\n",
       "      <th>3</th>\n",
       "      <td>AOSC568</td>\n",
       "      <td>-0.051208</td>\n",
       "    </tr>\n",
       "    <tr>\n",
       "      <th>4</th>\n",
       "      <td>AOSC658</td>\n",
       "      <td>-0.338769</td>\n",
       "    </tr>\n",
       "  </tbody>\n",
       "</table>\n",
       "</div>"
      ],
      "text/plain": [
       "   FeatName  log2_expression\n",
       "0  AOSC1103        -0.026203\n",
       "1   AOSC403        -0.159389\n",
       "2   AOSC477        -0.094232\n",
       "3   AOSC568        -0.051208\n",
       "4   AOSC658        -0.338769"
      ]
     },
     "metadata": {},
     "output_type": "display_data"
    }
   ],
   "source": [
    "expression_matrix = mev_to_expression_matrix(micro_array_data)\n",
    "display(expression_matrix.head())"
   ]
  },
  {
   "cell_type": "code",
   "execution_count": 17,
   "metadata": {},
   "outputs": [],
   "source": [
    "from mev_to_csv import MevToCsv"
   ]
  },
  {
   "cell_type": "code",
   "execution_count": 18,
   "metadata": {},
   "outputs": [],
   "source": [
    "mev_file = \"../data/raw/GSM321647.mev\"\n",
    "output_path = \"../data/processed/GSM321647.csv\""
   ]
  },
  {
   "cell_type": "code",
   "execution_count": 19,
   "metadata": {},
   "outputs": [
    {
     "name": "stdout",
     "output_type": "stream",
     "text": [
      "Excluded 314 samples due to low quality scores.\n"
     ]
    }
   ],
   "source": [
    "converter = MevToCsv(mev_file, quality_score=True)\n",
    "mev_header, matrix = converter.convert()"
   ]
  },
  {
   "cell_type": "code",
   "execution_count": 20,
   "metadata": {},
   "outputs": [
    {
     "data": {
      "text/html": [
       "<div>\n",
       "<style scoped>\n",
       "    .dataframe tbody tr th:only-of-type {\n",
       "        vertical-align: middle;\n",
       "    }\n",
       "\n",
       "    .dataframe tbody tr th {\n",
       "        vertical-align: top;\n",
       "    }\n",
       "\n",
       "    .dataframe thead th {\n",
       "        text-align: right;\n",
       "    }\n",
       "</style>\n",
       "<table border=\"1\" class=\"dataframe\">\n",
       "  <thead>\n",
       "    <tr style=\"text-align: right;\">\n",
       "      <th></th>\n",
       "      <th>FeatName</th>\n",
       "      <th>GSM321647</th>\n",
       "    </tr>\n",
       "  </thead>\n",
       "  <tbody>\n",
       "    <tr>\n",
       "      <th>0</th>\n",
       "      <td>AOSC1103</td>\n",
       "      <td>0.506580</td>\n",
       "    </tr>\n",
       "    <tr>\n",
       "      <th>1</th>\n",
       "      <td>AOSC403</td>\n",
       "      <td>0.540947</td>\n",
       "    </tr>\n",
       "    <tr>\n",
       "      <th>2</th>\n",
       "      <td>AOSC477</td>\n",
       "      <td>0.523943</td>\n",
       "    </tr>\n",
       "    <tr>\n",
       "      <th>3</th>\n",
       "      <td>AOSC568</td>\n",
       "      <td>0.512916</td>\n",
       "    </tr>\n",
       "    <tr>\n",
       "      <th>4</th>\n",
       "      <td>AOSC658</td>\n",
       "      <td>0.589653</td>\n",
       "    </tr>\n",
       "    <tr>\n",
       "      <th>...</th>\n",
       "      <td>...</td>\n",
       "      <td>...</td>\n",
       "    </tr>\n",
       "    <tr>\n",
       "      <th>3476</th>\n",
       "      <td>CAXB2116</td>\n",
       "      <td>0.543708</td>\n",
       "    </tr>\n",
       "    <tr>\n",
       "      <th>3477</th>\n",
       "      <td>CAXB2318</td>\n",
       "      <td>0.577526</td>\n",
       "    </tr>\n",
       "    <tr>\n",
       "      <th>3478</th>\n",
       "      <td>CAXB2491</td>\n",
       "      <td>0.491691</td>\n",
       "    </tr>\n",
       "    <tr>\n",
       "      <th>3480</th>\n",
       "      <td>Apal mitochondrial gene</td>\n",
       "      <td>0.581827</td>\n",
       "    </tr>\n",
       "    <tr>\n",
       "      <th>3481</th>\n",
       "      <td>Mfav mitochondrial gene</td>\n",
       "      <td>0.520230</td>\n",
       "    </tr>\n",
       "  </tbody>\n",
       "</table>\n",
       "<p>3177 rows × 2 columns</p>\n",
       "</div>"
      ],
      "text/plain": [
       "                     FeatName  GSM321647\n",
       "0                    AOSC1103   0.506580\n",
       "1                     AOSC403   0.540947\n",
       "2                     AOSC477   0.523943\n",
       "3                     AOSC568   0.512916\n",
       "4                     AOSC658   0.589653\n",
       "...                       ...        ...\n",
       "3476                 CAXB2116   0.543708\n",
       "3477                 CAXB2318   0.577526\n",
       "3478                 CAXB2491   0.491691\n",
       "3480  Apal mitochondrial gene   0.581827\n",
       "3481  Mfav mitochondrial gene   0.520230\n",
       "\n",
       "[3177 rows x 2 columns]"
      ]
     },
     "execution_count": 20,
     "metadata": {},
     "output_type": "execute_result"
    }
   ],
   "source": [
    "matrix"
   ]
  },
  {
   "cell_type": "markdown",
   "metadata": {},
   "source": [
    "## Test expression matrix builder"
   ]
  },
  {
   "cell_type": "code",
   "execution_count": 21,
   "metadata": {},
   "outputs": [],
   "source": [
    "from mev_to_csv import ExpressionMatrixBuilder"
   ]
  },
  {
   "cell_type": "code",
   "execution_count": 26,
   "metadata": {},
   "outputs": [
    {
     "data": {
      "text/plain": [
       "['../data/raw/GSM321647.mev',\n",
       " '../data/raw/GSM321673.mev',\n",
       " '../data/raw/GSM321677.mev']"
      ]
     },
     "execution_count": 26,
     "metadata": {},
     "output_type": "execute_result"
    }
   ],
   "source": [
    "mev_paths = ExpressionMatrixBuilder.paths_builder(\"../data/raw/\")\n",
    "mev_paths"
   ]
  },
  {
   "cell_type": "code",
   "execution_count": 35,
   "metadata": {},
   "outputs": [
    {
     "name": "stdout",
     "output_type": "stream",
     "text": [
      "Excluded 314 samples due to low quality scores.\n",
      "Excluded 496 samples due to low quality scores.\n",
      "Excluded 511 samples due to low quality scores.\n",
      "⚠️ Warning: Duplicate sample identifiers found: FeatName, FeatName\n",
      "⚠️ 615 missing values were filled with 0.\n",
      "⚠️ Warning: Duplicate sample identifiers found: FeatName, FeatName\n",
      "⚠️ 615 missing values were filled with 0.\n"
     ]
    },
    {
     "data": {
      "text/html": [
       "<div>\n",
       "<style scoped>\n",
       "    .dataframe tbody tr th:only-of-type {\n",
       "        vertical-align: middle;\n",
       "    }\n",
       "\n",
       "    .dataframe tbody tr th {\n",
       "        vertical-align: top;\n",
       "    }\n",
       "\n",
       "    .dataframe thead th {\n",
       "        text-align: right;\n",
       "    }\n",
       "</style>\n",
       "<table border=\"1\" class=\"dataframe\">\n",
       "  <thead>\n",
       "    <tr style=\"text-align: right;\">\n",
       "      <th></th>\n",
       "      <th>FeatName</th>\n",
       "      <th>GSM321647</th>\n",
       "      <th>GSM321673</th>\n",
       "      <th>GSM321677</th>\n",
       "    </tr>\n",
       "  </thead>\n",
       "  <tbody>\n",
       "    <tr>\n",
       "      <th>0</th>\n",
       "      <td>AOSC1103</td>\n",
       "      <td>0.506580</td>\n",
       "      <td>0.616808</td>\n",
       "      <td>0.468331</td>\n",
       "    </tr>\n",
       "    <tr>\n",
       "      <th>1</th>\n",
       "      <td>AOSC403</td>\n",
       "      <td>0.540947</td>\n",
       "      <td>0.520399</td>\n",
       "      <td>0.409619</td>\n",
       "    </tr>\n",
       "    <tr>\n",
       "      <th>2</th>\n",
       "      <td>AOSC477</td>\n",
       "      <td>0.523943</td>\n",
       "      <td>0.506037</td>\n",
       "      <td>0.352103</td>\n",
       "    </tr>\n",
       "    <tr>\n",
       "      <th>3</th>\n",
       "      <td>AOSC568</td>\n",
       "      <td>0.512916</td>\n",
       "      <td>0.471960</td>\n",
       "      <td>0.299529</td>\n",
       "    </tr>\n",
       "    <tr>\n",
       "      <th>4</th>\n",
       "      <td>AOSC658</td>\n",
       "      <td>0.589653</td>\n",
       "      <td>0.519331</td>\n",
       "      <td>0.502956</td>\n",
       "    </tr>\n",
       "    <tr>\n",
       "      <th>...</th>\n",
       "      <td>...</td>\n",
       "      <td>...</td>\n",
       "      <td>...</td>\n",
       "      <td>...</td>\n",
       "    </tr>\n",
       "    <tr>\n",
       "      <th>3360</th>\n",
       "      <td>0</td>\n",
       "      <td>0.000000</td>\n",
       "      <td>0.512093</td>\n",
       "      <td>0.000000</td>\n",
       "    </tr>\n",
       "    <tr>\n",
       "      <th>3489</th>\n",
       "      <td>0</td>\n",
       "      <td>0.000000</td>\n",
       "      <td>0.000000</td>\n",
       "      <td>0.000000</td>\n",
       "    </tr>\n",
       "    <tr>\n",
       "      <th>3490</th>\n",
       "      <td>0</td>\n",
       "      <td>0.000000</td>\n",
       "      <td>0.000000</td>\n",
       "      <td>0.000000</td>\n",
       "    </tr>\n",
       "    <tr>\n",
       "      <th>2574</th>\n",
       "      <td>0</td>\n",
       "      <td>0.000000</td>\n",
       "      <td>0.000000</td>\n",
       "      <td>0.000000</td>\n",
       "    </tr>\n",
       "    <tr>\n",
       "      <th>2610</th>\n",
       "      <td>0</td>\n",
       "      <td>0.000000</td>\n",
       "      <td>0.000000</td>\n",
       "      <td>1.598577</td>\n",
       "    </tr>\n",
       "  </tbody>\n",
       "</table>\n",
       "<p>3236 rows × 4 columns</p>\n",
       "</div>"
      ],
      "text/plain": [
       "      FeatName  GSM321647  GSM321673  GSM321677\n",
       "0     AOSC1103   0.506580   0.616808   0.468331\n",
       "1      AOSC403   0.540947   0.520399   0.409619\n",
       "2      AOSC477   0.523943   0.506037   0.352103\n",
       "3      AOSC568   0.512916   0.471960   0.299529\n",
       "4      AOSC658   0.589653   0.519331   0.502956\n",
       "...        ...        ...        ...        ...\n",
       "3360         0   0.000000   0.512093   0.000000\n",
       "3489         0   0.000000   0.000000   0.000000\n",
       "3490         0   0.000000   0.000000   0.000000\n",
       "2574         0   0.000000   0.000000   0.000000\n",
       "2610         0   0.000000   0.000000   1.598577\n",
       "\n",
       "[3236 rows x 4 columns]"
      ]
     },
     "execution_count": 35,
     "metadata": {},
     "output_type": "execute_result"
    }
   ],
   "source": [
    "builder = ExpressionMatrixBuilder(mev_paths, quality_score=True)\n",
    "headers, matrices = builder.read_mevs()\n",
    "merged_matrix = builder.merge_mevs()\n",
    "builder.save_merged_matrix(\"../data/processed/merged_matrix.csv\")\n",
    "merged_matrix"
   ]
  },
  {
   "cell_type": "code",
   "execution_count": 40,
   "metadata": {},
   "outputs": [
    {
     "name": "stdout",
     "output_type": "stream",
     "text": [
      "Excluded 314 samples due to low quality scores.\n",
      "Excluded 496 samples due to low quality scores.\n",
      "Excluded 511 samples due to low quality scores.\n",
      "⚠️ Warning: Duplicate sample identifiers found: FeatName, FeatName\n",
      "⚠️ 615 missing values were filled with 0.\n",
      "⚠️ Warning: Duplicate sample identifiers found: FeatName, FeatName\n",
      "⚠️ 615 missing values were filled with 0.\n"
     ]
    },
    {
     "data": {
      "text/html": [
       "<div>\n",
       "<style scoped>\n",
       "    .dataframe tbody tr th:only-of-type {\n",
       "        vertical-align: middle;\n",
       "    }\n",
       "\n",
       "    .dataframe tbody tr th {\n",
       "        vertical-align: top;\n",
       "    }\n",
       "\n",
       "    .dataframe thead th {\n",
       "        text-align: right;\n",
       "    }\n",
       "</style>\n",
       "<table border=\"1\" class=\"dataframe\">\n",
       "  <thead>\n",
       "    <tr style=\"text-align: right;\">\n",
       "      <th></th>\n",
       "      <th>FeatName</th>\n",
       "      <th>GSM321647</th>\n",
       "      <th>GSM321673</th>\n",
       "      <th>GSM321677</th>\n",
       "    </tr>\n",
       "  </thead>\n",
       "  <tbody>\n",
       "    <tr>\n",
       "      <th>0</th>\n",
       "      <td>AOSC1103</td>\n",
       "      <td>0.506580</td>\n",
       "      <td>0.616808</td>\n",
       "      <td>0.468331</td>\n",
       "    </tr>\n",
       "    <tr>\n",
       "      <th>1</th>\n",
       "      <td>AOSC403</td>\n",
       "      <td>0.540947</td>\n",
       "      <td>0.520399</td>\n",
       "      <td>0.409619</td>\n",
       "    </tr>\n",
       "    <tr>\n",
       "      <th>2</th>\n",
       "      <td>AOSC477</td>\n",
       "      <td>0.523943</td>\n",
       "      <td>0.506037</td>\n",
       "      <td>0.352103</td>\n",
       "    </tr>\n",
       "    <tr>\n",
       "      <th>3</th>\n",
       "      <td>AOSC568</td>\n",
       "      <td>0.512916</td>\n",
       "      <td>0.471960</td>\n",
       "      <td>0.299529</td>\n",
       "    </tr>\n",
       "    <tr>\n",
       "      <th>4</th>\n",
       "      <td>AOSC658</td>\n",
       "      <td>0.589653</td>\n",
       "      <td>0.519331</td>\n",
       "      <td>0.502956</td>\n",
       "    </tr>\n",
       "    <tr>\n",
       "      <th>...</th>\n",
       "      <td>...</td>\n",
       "      <td>...</td>\n",
       "      <td>...</td>\n",
       "      <td>...</td>\n",
       "    </tr>\n",
       "    <tr>\n",
       "      <th>3360</th>\n",
       "      <td>0</td>\n",
       "      <td>0.000000</td>\n",
       "      <td>0.512093</td>\n",
       "      <td>0.000000</td>\n",
       "    </tr>\n",
       "    <tr>\n",
       "      <th>3489</th>\n",
       "      <td>0</td>\n",
       "      <td>0.000000</td>\n",
       "      <td>0.000000</td>\n",
       "      <td>0.000000</td>\n",
       "    </tr>\n",
       "    <tr>\n",
       "      <th>3490</th>\n",
       "      <td>0</td>\n",
       "      <td>0.000000</td>\n",
       "      <td>0.000000</td>\n",
       "      <td>0.000000</td>\n",
       "    </tr>\n",
       "    <tr>\n",
       "      <th>2574</th>\n",
       "      <td>0</td>\n",
       "      <td>0.000000</td>\n",
       "      <td>0.000000</td>\n",
       "      <td>0.000000</td>\n",
       "    </tr>\n",
       "    <tr>\n",
       "      <th>2610</th>\n",
       "      <td>0</td>\n",
       "      <td>0.000000</td>\n",
       "      <td>0.000000</td>\n",
       "      <td>1.598577</td>\n",
       "    </tr>\n",
       "  </tbody>\n",
       "</table>\n",
       "<p>3236 rows × 4 columns</p>\n",
       "</div>"
      ],
      "text/plain": [
       "      FeatName  GSM321647  GSM321673  GSM321677\n",
       "0     AOSC1103   0.506580   0.616808   0.468331\n",
       "1      AOSC403   0.540947   0.520399   0.409619\n",
       "2      AOSC477   0.523943   0.506037   0.352103\n",
       "3      AOSC568   0.512916   0.471960   0.299529\n",
       "4      AOSC658   0.589653   0.519331   0.502956\n",
       "...        ...        ...        ...        ...\n",
       "3360         0   0.000000   0.512093   0.000000\n",
       "3489         0   0.000000   0.000000   0.000000\n",
       "3490         0   0.000000   0.000000   0.000000\n",
       "2574         0   0.000000   0.000000   0.000000\n",
       "2610         0   0.000000   0.000000   1.598577\n",
       "\n",
       "[3236 rows x 4 columns]"
      ]
     },
     "execution_count": 40,
     "metadata": {},
     "output_type": "execute_result"
    }
   ],
   "source": [
    "from mev_to_csv import process_mev_folder\n",
    "\n",
    "# Simple one-line usage\n",
    "result = process_mev_folder(\"../data/raw/\", \"../data/processed/merged_matrix.csv\")\n",
    "result"
   ]
  },
  {
   "cell_type": "code",
   "execution_count": null,
   "metadata": {},
   "outputs": [],
   "source": []
  }
 ],
 "metadata": {
  "kernelspec": {
   "display_name": "base",
   "language": "python",
   "name": "python3"
  },
  "language_info": {
   "codemirror_mode": {
    "name": "ipython",
    "version": 3
   },
   "file_extension": ".py",
   "mimetype": "text/x-python",
   "name": "python",
   "nbconvert_exporter": "python",
   "pygments_lexer": "ipython3",
   "version": "3.12.2"
  }
 },
 "nbformat": 4,
 "nbformat_minor": 2
}

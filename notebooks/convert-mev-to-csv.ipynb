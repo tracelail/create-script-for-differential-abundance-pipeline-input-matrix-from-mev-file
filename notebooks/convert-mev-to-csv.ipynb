{
 "cells": [
  {
   "cell_type": "code",
   "execution_count": 2,
   "metadata": {},
   "outputs": [],
   "source": [
    "import pandas as pd\n",
    "\n",
    "input_path = '../data/processed/'"
   ]
  },
  {
   "cell_type": "markdown",
   "metadata": {},
   "source": [
    "# Header information"
   ]
  },
  {
   "cell_type": "code",
   "execution_count": 42,
   "metadata": {},
   "outputs": [],
   "source": [
    "def read_mev_headers(path):\n",
    "    with open(path, 'r') as f:\n",
    "        mev_header = {}\n",
    "        for i in range(7):\n",
    "            line = f.readline().replace('#','').strip()\n",
    "            key, value = line.split(':',1)\n",
    "            mev_header[key] = value.strip()\n",
    "    return mev_header\n"
   ]
  },
  {
   "cell_type": "code",
   "execution_count": 45,
   "metadata": {},
   "outputs": [
    {
     "name": "stdout",
     "output_type": "stream",
     "text": [
      "{'Version': 'V1.0', 'Date': 'Tue Apr 22 05:54:18 2008', 'Input_row_count': '4608; bad/undetected spots:1439', 'Created by': 'TIGR Spotfinder 3.1.1, Windows\"', 'TIFF files processed': 'ch A- C:/Documents and Settings/Monica Medina/Desktop/Mickey/Mexico2007/19april2008/images/single/bot1 scan4 730 600_532.tif; ch B- C:/Documents and Settings/Monica Medina/Desktop/Mickey/Mexico2007/19april2008/images/single/bot1 scan4 730 600_635.tif;', 'Segmentation method': 'Otsu, Min size: 3, Max size: 100; Top bkg cutoff: 25% \"', 'Post-processing settings': 'QCfilter: ON, Background correction: ON, Keep flagged values: ON, QC threshold= 1*medianBKG+1*StdDevBkg\"'}\n"
     ]
    }
   ],
   "source": [
    "mev_header = read_mev_headers(f'{input_path}test-mev-file.mev')\n",
    "print(mev_header)"
   ]
  },
  {
   "cell_type": "code",
   "execution_count": 47,
   "metadata": {},
   "outputs": [
    {
     "name": "stdout",
     "output_type": "stream",
     "text": [
      "V1.0\n"
     ]
    }
   ],
   "source": [
    "print(mev_header['Version'])"
   ]
  },
  {
   "cell_type": "markdown",
   "metadata": {},
   "source": [
    "# Array data"
   ]
  },
  {
   "cell_type": "code",
   "execution_count": 5,
   "metadata": {},
   "outputs": [
    {
     "data": {
      "text/html": [
       "<div>\n",
       "<style scoped>\n",
       "    .dataframe tbody tr th:only-of-type {\n",
       "        vertical-align: middle;\n",
       "    }\n",
       "\n",
       "    .dataframe tbody tr th {\n",
       "        vertical-align: top;\n",
       "    }\n",
       "\n",
       "    .dataframe thead th {\n",
       "        text-align: right;\n",
       "    }\n",
       "</style>\n",
       "<table border=\"1\" class=\"dataframe\">\n",
       "  <thead>\n",
       "    <tr style=\"text-align: right;\">\n",
       "      <th></th>\n",
       "      <th>UID</th>\n",
       "      <th>IA</th>\n",
       "      <th>IB</th>\n",
       "      <th>FeatName</th>\n",
       "      <th>R</th>\n",
       "      <th>C</th>\n",
       "      <th>MR</th>\n",
       "      <th>MC</th>\n",
       "      <th>SR</th>\n",
       "      <th>SC</th>\n",
       "      <th>...</th>\n",
       "      <th>MedA</th>\n",
       "      <th>MedB</th>\n",
       "      <th>MNA</th>\n",
       "      <th>MNB</th>\n",
       "      <th>MedBkgA</th>\n",
       "      <th>MedBkgB</th>\n",
       "      <th>X</th>\n",
       "      <th>Y</th>\n",
       "      <th>PValueA</th>\n",
       "      <th>PValueB</th>\n",
       "    </tr>\n",
       "  </thead>\n",
       "  <tbody>\n",
       "    <tr>\n",
       "      <th>0</th>\n",
       "      <td>1</td>\n",
       "      <td>16742184</td>\n",
       "      <td>16440850</td>\n",
       "      <td>AOSC1103</td>\n",
       "      <td>1</td>\n",
       "      <td>1</td>\n",
       "      <td>1</td>\n",
       "      <td>1</td>\n",
       "      <td>1</td>\n",
       "      <td>1</td>\n",
       "      <td>...</td>\n",
       "      <td>38972</td>\n",
       "      <td>38475</td>\n",
       "      <td>39117</td>\n",
       "      <td>38413</td>\n",
       "      <td>136</td>\n",
       "      <td>71</td>\n",
       "      <td>62</td>\n",
       "      <td>44</td>\n",
       "      <td>0</td>\n",
       "      <td>0</td>\n",
       "    </tr>\n",
       "    <tr>\n",
       "      <th>1</th>\n",
       "      <td>2</td>\n",
       "      <td>4113534</td>\n",
       "      <td>3683275</td>\n",
       "      <td>AOSC403</td>\n",
       "      <td>1</td>\n",
       "      <td>2</td>\n",
       "      <td>1</td>\n",
       "      <td>1</td>\n",
       "      <td>1</td>\n",
       "      <td>2</td>\n",
       "      <td>...</td>\n",
       "      <td>10150</td>\n",
       "      <td>9190</td>\n",
       "      <td>10233</td>\n",
       "      <td>9162</td>\n",
       "      <td>128</td>\n",
       "      <td>67</td>\n",
       "      <td>111</td>\n",
       "      <td>44</td>\n",
       "      <td>0</td>\n",
       "      <td>0</td>\n",
       "    </tr>\n",
       "    <tr>\n",
       "      <th>2</th>\n",
       "      <td>3</td>\n",
       "      <td>3252615</td>\n",
       "      <td>3046954</td>\n",
       "      <td>AOSC477</td>\n",
       "      <td>1</td>\n",
       "      <td>3</td>\n",
       "      <td>1</td>\n",
       "      <td>1</td>\n",
       "      <td>1</td>\n",
       "      <td>3</td>\n",
       "      <td>...</td>\n",
       "      <td>8637</td>\n",
       "      <td>8255</td>\n",
       "      <td>8887</td>\n",
       "      <td>8325</td>\n",
       "      <td>140</td>\n",
       "      <td>68</td>\n",
       "      <td>160</td>\n",
       "      <td>44</td>\n",
       "      <td>0</td>\n",
       "      <td>0</td>\n",
       "    </tr>\n",
       "    <tr>\n",
       "      <th>3</th>\n",
       "      <td>4</td>\n",
       "      <td>4954840</td>\n",
       "      <td>4782054</td>\n",
       "      <td>AOSC568</td>\n",
       "      <td>1</td>\n",
       "      <td>4</td>\n",
       "      <td>1</td>\n",
       "      <td>1</td>\n",
       "      <td>1</td>\n",
       "      <td>4</td>\n",
       "      <td>...</td>\n",
       "      <td>12589</td>\n",
       "      <td>12395</td>\n",
       "      <td>12971</td>\n",
       "      <td>12518</td>\n",
       "      <td>138</td>\n",
       "      <td>72</td>\n",
       "      <td>209</td>\n",
       "      <td>44</td>\n",
       "      <td>0</td>\n",
       "      <td>0</td>\n",
       "    </tr>\n",
       "    <tr>\n",
       "      <th>4</th>\n",
       "      <td>5</td>\n",
       "      <td>2290631</td>\n",
       "      <td>1811238</td>\n",
       "      <td>AOSC658</td>\n",
       "      <td>1</td>\n",
       "      <td>5</td>\n",
       "      <td>1</td>\n",
       "      <td>1</td>\n",
       "      <td>1</td>\n",
       "      <td>5</td>\n",
       "      <td>...</td>\n",
       "      <td>7907</td>\n",
       "      <td>6287</td>\n",
       "      <td>8330</td>\n",
       "      <td>6586</td>\n",
       "      <td>145</td>\n",
       "      <td>68</td>\n",
       "      <td>258</td>\n",
       "      <td>44</td>\n",
       "      <td>0</td>\n",
       "      <td>0</td>\n",
       "    </tr>\n",
       "  </tbody>\n",
       "</table>\n",
       "<p>5 rows × 33 columns</p>\n",
       "</div>"
      ],
      "text/plain": [
       "   UID        IA        IB  FeatName  R  C  MR  MC  SR  SC  ...   MedA   MedB  \\\n",
       "0    1  16742184  16440850  AOSC1103  1  1   1   1   1   1  ...  38972  38475   \n",
       "1    2   4113534   3683275   AOSC403  1  2   1   1   1   2  ...  10150   9190   \n",
       "2    3   3252615   3046954   AOSC477  1  3   1   1   1   3  ...   8637   8255   \n",
       "3    4   4954840   4782054   AOSC568  1  4   1   1   1   4  ...  12589  12395   \n",
       "4    5   2290631   1811238   AOSC658  1  5   1   1   1   5  ...   7907   6287   \n",
       "\n",
       "     MNA    MNB  MedBkgA  MedBkgB    X   Y  PValueA  PValueB  \n",
       "0  39117  38413      136       71   62  44        0        0  \n",
       "1  10233   9162      128       67  111  44        0        0  \n",
       "2   8887   8325      140       68  160  44        0        0  \n",
       "3  12971  12518      138       72  209  44        0        0  \n",
       "4   8330   6586      145       68  258  44        0        0  \n",
       "\n",
       "[5 rows x 33 columns]"
      ]
     },
     "metadata": {},
     "output_type": "display_data"
    }
   ],
   "source": [
    "array_data = pd.read_csv(f'{input_path}test-mev-file.mev', sep='\\t', skiprows=8) # skiprows=8 to skip the header ## potential that all mev files have the same header number of rows\n",
    "display(array_data.head())\n"
   ]
  },
  {
   "cell_type": "code",
   "execution_count": null,
   "metadata": {},
   "outputs": [],
   "source": []
  }
 ],
 "metadata": {
  "kernelspec": {
   "display_name": "base",
   "language": "python",
   "name": "python3"
  },
  "language_info": {
   "codemirror_mode": {
    "name": "ipython",
    "version": 3
   },
   "file_extension": ".py",
   "mimetype": "text/x-python",
   "name": "python",
   "nbconvert_exporter": "python",
   "pygments_lexer": "ipython3",
   "version": "3.12.2"
  }
 },
 "nbformat": 4,
 "nbformat_minor": 2
}
